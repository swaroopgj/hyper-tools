{
 "cells": [
  {
   "cell_type": "code",
   "execution_count": 46,
   "metadata": {
    "collapsed": false
   },
   "outputs": [],
   "source": [
    "import matplotlib.pyplot as plt \n",
    "import matplotlib.animation as animation\n",
    "import numpy as np\n",
    "import time\n",
    "import scipy.io as sio\n",
    "import numpy as np\n",
    "import scipy\n",
    "from scipy.interpolate import PchipInterpolator as pchip\n",
    "import csv"
   ]
  },
  {
   "cell_type": "code",
   "execution_count": 47,
   "metadata": {
    "collapsed": false
   },
   "outputs": [
    {
     "name": "stdout",
     "output_type": "stream",
     "text": [
      "99408\n",
      "<type 'str'>\n"
     ]
    }
   ],
   "source": [
    "data=open(\"example_eyesclosed.txt\").read()\n",
    "lines=data.split('\\n')\n",
    "print len(lines)\n",
    "print type(lines[13])\n",
    "for x in range(0,len(lines)):\n",
    "    w = csv.writer(open(\"data.txt\",'a'),dialect='excel')\n",
    "    w.writerows(lines[x])\n",
    "    time.sleep(1/250)\n",
    "    \n"
   ]
  },
  {
   "cell_type": "code",
   "execution_count": null,
   "metadata": {
    "collapsed": false
   },
   "outputs": [],
   "source": [
    "\n"
   ]
  },
  {
   "cell_type": "code",
   "execution_count": null,
   "metadata": {
    "collapsed": false
   },
   "outputs": [],
   "source": []
  },
  {
   "cell_type": "code",
   "execution_count": null,
   "metadata": {
    "collapsed": true
   },
   "outputs": [],
   "source": []
  }
 ],
 "metadata": {
  "kernelspec": {
   "display_name": "Python 2",
   "language": "python",
   "name": "python2"
  },
  "language_info": {
   "codemirror_mode": {
    "name": "ipython",
    "version": 2
   },
   "file_extension": ".py",
   "mimetype": "text/x-python",
   "name": "python",
   "nbconvert_exporter": "python",
   "pygments_lexer": "ipython2",
   "version": "2.7.10"
  }
 },
 "nbformat": 4,
 "nbformat_minor": 1
}

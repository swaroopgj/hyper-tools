{
 "cells": [
  {
   "cell_type": "markdown",
   "metadata": {
    "collapsed": false
   },
   "source": [
    "### Dynamic 3D plotting of two subs' weight matrices"
   ]
  },
  {
   "cell_type": "code",
   "execution_count": null,
   "metadata": {
    "collapsed": true
   },
   "outputs": [],
   "source": [
    "\n"
   ]
  },
  {
   "cell_type": "code",
   "execution_count": 73,
   "metadata": {
    "collapsed": false
   },
   "outputs": [],
   "source": [
    "import sys\n",
    "sys.path.append('../')\n",
    "import scipy.io as sio\n",
    "import numpy as np\n",
    "import matplotlib.pyplot as plt \n",
    "import matplotlib.animation as animation\n",
    "import scipy\n",
    "from scipy.interpolate import PchipInterpolator as pchip\n",
    "import PCA as PCA\n",
    "#import matplotlib as mpl\n",
    "from mpl_toolkits.mplot3d import Axes3D\n",
    "import hyperalign as hyp\n",
    "\n",
    "\n",
    "def animator(data):\n",
    "    \n",
    "    def is_list(x):\n",
    "        if type(x[0][0])==np.ndarray:\n",
    "            return True\n",
    "        elif type(x[0][0])==np.int64 or type(x[0][0])==int:\n",
    "            return False\n",
    "        \n",
    "    def interp(z):\n",
    "        x=np.arange(0, len(z), 1)\n",
    "        xx=np.arange(0, len(z)-1, .1)\n",
    "        q=pchip(x,z)\n",
    "        return q(xx)\n",
    "    \n",
    "    ##############\n",
    "    \n",
    "    if is_list(data):\n",
    "        array=np.zeros(data[0].shape)\n",
    "        smoothed=[array]*len(data)\n",
    "        \n",
    "        for idx, x in enumerate(data):\n",
    "            rows=data[idx].shape[0]\n",
    "\n",
    "            smoothed[idx]=np.zeros((rows*10,3))\n",
    "            smoothed[idx]=PCA.reduc(x, 3)\n",
    "            smoothed[idx]= interp(smoothed[idx])\n",
    "            \n",
    "    else:\n",
    "        array=np.zeros(data.shape)\n",
    "        rows=data.shape[0]\n",
    "        smoothed=PCA.reduc(data,3)\n",
    "        smoothed=interp(smoothed)\n",
    "\n",
    "    a,b=np.zeros((len(smoothed),smoothed[0].shape[1])),np.zeros((len(smoothed),smoothed[0].shape[1]))\n",
    "\n",
    "    for idx,s in enumerate(smoothed):\n",
    "        a[idx,0]=max(s[:,0])\n",
    "        a[idx,1]=max(s[:,1])\n",
    "        a[idx,2]=max(s[:,2])\n",
    "    for idx,s in enumerate(smoothed):\n",
    "        b[idx,0]=min(s[:,0])\n",
    "        b[idx,1]=min(s[:,1])\n",
    "        b[idx,2]=min(s[:,2])\n",
    "        \n",
    "    print smoothed\n",
    "    print a\n",
    "        #eventually update this for other dimensions, if desired\n",
    "      \n",
    "    ####################\n",
    "    \n",
    "        \n",
    "    def animate2(i):\n",
    "        ax1.clear()\n",
    "        #ax2.clear()\n",
    "\n",
    "        #ax1.set_color_cycle(['red', 'red','grey','purple','purple','grey','orange','orange','grey'])\n",
    "        #ax2.set_color_cycle(['black'])\n",
    "\n",
    "        for x in smoothed:\n",
    "            if i<=15:  \n",
    "                ax1.set_color_cycle(['red','red','red'])\n",
    "                ax1.view_init(elev=10., azim=i)\n",
    "                ax1.plot(x[0:i, 0], x[0:i, 1], x[0:i, 2])\n",
    "            \n",
    "                ax1.grid(False)\n",
    "                ax1.set_xticklabels([])\n",
    "                ax1.set_yticklabels([])\n",
    "                ax1.set_zticklabels([])\n",
    "                \n",
    "                ax1.set_xlim([min(b[:,0]), max(a[:,0])])\n",
    "                ax1.set_ylim([min(b[:,1]), max(a[:,1])])\n",
    "                ax1.set_zlim([min(b[:,2]), max(a[:,2])])\n",
    "\n",
    "                \n",
    "            if i>15 and i<18:\n",
    "                ax1.set_color_cycle(['red','red','red'])\n",
    "                ax1.view_init(elev=10., azim=i)\n",
    "                ax1.plot(x[i-15:i, 0], x[i-15:i, 1], x[i-15:i, 2])\n",
    "                \n",
    "                ax1.grid(False)\n",
    "                ax1.set_xticklabels([])\n",
    "                ax1.set_yticklabels([])\n",
    "                ax1.set_zticklabels([])\n",
    "                \n",
    "                ax1.set_xlim([min(b[:,0]), max(a[:,0])])\n",
    "                ax1.set_ylim([min(b[:,1]), max(a[:,1])])\n",
    "                ax1.set_zlim([min(b[:,2]), max(a[:,2])])\n",
    "\n",
    "\n",
    "        \n",
    "            if i>=18 and i<58:\n",
    "                ax1.set_color_cycle(['red', 'red','grey','purple','purple','grey','orange','orange','grey'])\n",
    "                ax1.view_init(elev=10., azim=i)\n",
    "                ax1.plot(x[i-15:i, 0], x[i-15:i, 1], x[i-15:i, 2])\n",
    "                ax1.plot(x[i-18:i-15,0],x[i-18:i-15,1],x[i-18:i-15,2], \":\")\n",
    "                ax1.plot(x[0:i-18,0],x[0:i-18,1],x[0:i-18,2], \":\")\n",
    "                \n",
    "                ax1.grid(False)\n",
    "                ax1.set_xticklabels([])\n",
    "                ax1.set_yticklabels([])\n",
    "                ax1.set_zticklabels([])\n",
    "                \n",
    "                ax1.set_xlim([min(b[:,0]), max(a[:,0])])\n",
    "                ax1.set_ylim([min(b[:,1]), max(a[:,1])])\n",
    "                ax1.set_zlim([min(b[:,2]), max(a[:,2])])\n",
    "\n",
    "\n",
    "                \n",
    "            if i>=58:\n",
    "                if i<360:\n",
    "                    ax1.view_init(elev=10., azim=i)\n",
    "                else:\n",
    "                    Az=i-(int(i/360)*360)\n",
    "                    ax1.view_init(elev=10., azim=Az)\n",
    "                ax1.set_color_cycle(['red', 'red','grey','purple','purple','grey','orange','orange','grey'])\n",
    "                ax1.plot(x[i-15:i, 0], x[i-15:i, 1], x[i-15:i, 2])\n",
    "                ax1.plot(x[i-18:i-15,0],x[i-18:i-15,1],x[i-18:i-15,2], \":\")\n",
    "                ax1.plot(x[i-58:i-18,0],x[i-58:i-18,1],x[i-58:i-18,2], \":\")\n",
    "                \n",
    "                ax1.grid(False)\n",
    "                ax1.set_xticklabels([])\n",
    "                ax1.set_yticklabels([])\n",
    "                ax1.set_zticklabels([])\n",
    "                \n",
    "                ax1.set_xlim([min(b[:,0]), max(a[:,0])])\n",
    "                ax1.set_ylim([min(b[:,1]), max(a[:,1])])\n",
    "                ax1.set_zlim([min(b[:,2]), max(a[:,2])])\n",
    "\n",
    "     \n",
    "        average=(sum(x[i-15:i,0]/14),sum(x[i-15:i,1]/14),sum(x[i-15:i,2]/14))\n",
    "    \n",
    "    #a = np.zeros((smoothed[0].shape[1],len(smoothed)))\n",
    "    \n",
    "\n",
    "            \n",
    "            \n",
    "\n",
    "    fig1 = plt.figure()\n",
    "    ax1 = fig1.add_subplot(111, projection='3d')\n",
    "\n",
    "    ax1.set_xticklabels([])\n",
    "    ax1.w_xaxis.set_pane_color((1.0, 1.0, 1.0, 1.0))\n",
    "    ax1.w_yaxis.set_pane_color((1.0, 1.0, 1.0, 1.0))\n",
    "    ax1.w_zaxis.set_pane_color((1.0, 1.0, 1.0, 1.0))\n",
    "    plt.axis('off')\n",
    "    #ax1.auto_scale_xyz(100,100,100)\n",
    "\n",
    "    #for ii in xrange(0,360,1):\n",
    "        #ax.view_init(elev=10., azim=ii)\n",
    "        #savefig(\"movie%d.png\" % ii)\n",
    "    \n",
    "    anim=animation.FuncAnimation(fig1, animate2, interval=8, repeat=True)#frames=range(1, len(test_interp)), \n",
    "\n",
    "    plt.show()\n",
    "\n"
   ]
  },
  {
   "cell_type": "code",
   "execution_count": null,
   "metadata": {
    "collapsed": false
   },
   "outputs": [],
   "source": []
  },
  {
   "cell_type": "code",
   "execution_count": 74,
   "metadata": {
    "collapsed": false
   },
   "outputs": [],
   "source": [
    "data=sio.loadmat('../extras/example_data/weights.mat')\n",
    "test_data=data['weights'][0][1]\n",
    "test_data2=data['weights'][0][2]\n",
    "test_data3=data['weights'][0][3]\n",
    "\n",
    "sample=np.array([test_data, test_data2, test_data3])\n",
    "\n"
   ]
  },
  {
   "cell_type": "code",
   "execution_count": null,
   "metadata": {
    "collapsed": false
   },
   "outputs": [
    {
     "name": "stdout",
     "output_type": "stream",
     "text": [
      "(300, 100)\n",
      "3\n",
      "[array([[-0.10050128, -1.04455259, -0.85417606],\n",
      "       [-0.0313257 , -0.99388629, -0.75764993],\n",
      "       [ 0.03641036, -0.94479789, -0.6584763 ],\n",
      "       ..., \n",
      "       [-0.46481833, -1.86661333, -0.1418612 ],\n",
      "       [-0.52017295, -1.80499328, -0.23800472],\n",
      "       [-0.56840782, -1.74231591, -0.33748146]]), array([[-1.52101267,  1.16180122, -0.1475715 ],\n",
      "       [-1.5197359 ,  0.97660381, -0.08756245],\n",
      "       [-1.51598869,  0.79750629, -0.03039617],\n",
      "       ..., \n",
      "       [ 0.53832364,  2.8415595 ,  0.30889583],\n",
      "       [ 0.54267998,  2.74696358,  0.27717045],\n",
      "       [ 0.54827363,  2.64803903,  0.24147875]]), array([[-0.33853163,  1.53092013, -1.0201791 ],\n",
      "       [-0.26826474,  1.49379714, -0.84516154],\n",
      "       [-0.20543733,  1.45662243, -0.67578178],\n",
      "       ..., \n",
      "       [-0.37642029,  1.50196574, -0.5083209 ],\n",
      "       [-0.4004052 ,  1.49345617, -0.47035729],\n",
      "       [-0.42951514,  1.48725485, -0.42664992]])]\n",
      "[[  3.83323762   3.45705243   3.39874357]\n",
      " [  3.06040379   3.4237162    2.94786021]\n",
      " [ 11.91666827   9.6032598    6.72193675]]\n"
     ]
    }
   ],
   "source": [
    "print test_data.shape\n",
    "print len(sample)\n",
    "\n",
    "\n",
    "animator(sample)\n",
    "#plt.show()\n",
    "\n"
   ]
  },
  {
   "cell_type": "code",
   "execution_count": 54,
   "metadata": {
    "collapsed": false
   },
   "outputs": [],
   "source": [
    "def is_list(x):\n",
    "    if type(x[0][0])==np.ndarray:\n",
    "        return True\n",
    "    elif type(x[0][0])==np.int64 or type(x[0][0])==np.float32:\n",
    "        return False\n"
   ]
  },
  {
   "cell_type": "code",
   "execution_count": null,
   "metadata": {
    "collapsed": true
   },
   "outputs": [],
   "source": []
  },
  {
   "cell_type": "markdown",
   "metadata": {
    "collapsed": false
   },
   "source": [
    "print is_list(sample)"
   ]
  },
  {
   "cell_type": "code",
   "execution_count": 10,
   "metadata": {
    "collapsed": false
   },
   "outputs": [
    {
     "name": "stdout",
     "output_type": "stream",
     "text": [
      "False\n"
     ]
    }
   ],
   "source": [
    "print is_list(test_data)"
   ]
  },
  {
   "cell_type": "code",
   "execution_count": 60,
   "metadata": {
    "collapsed": false
   },
   "outputs": [],
   "source": [
    "animator(hyp.hyperalign(sample))\n"
   ]
  },
  {
   "cell_type": "code",
   "execution_count": null,
   "metadata": {
    "collapsed": true
   },
   "outputs": [],
   "source": []
  }
 ],
 "metadata": {
  "kernelspec": {
   "display_name": "Python 2",
   "language": "python",
   "name": "python2"
  },
  "language_info": {
   "codemirror_mode": {
    "name": "ipython",
    "version": 2
   },
   "file_extension": ".py",
   "mimetype": "text/x-python",
   "name": "python",
   "nbconvert_exporter": "python",
   "pygments_lexer": "ipython2",
   "version": "2.7.11"
  }
 },
 "nbformat": 4,
 "nbformat_minor": 0
}

{
 "cells": [
  {
   "cell_type": "markdown",
   "metadata": {
    "collapsed": false
   },
   "source": [
    "### Dynamic 3D plotting of two subs' weight matrices"
   ]
  },
  {
   "cell_type": "code",
   "execution_count": 19,
   "metadata": {
    "collapsed": false
   },
   "outputs": [],
   "source": [
    "import sys\n",
    "sys.path.append('../')\n",
    "import scipy.io as sio\n",
    "import numpy as np\n",
    "import matplotlib.pyplot as plt \n",
    "import matplotlib.animation as animation\n",
    "import scipy\n",
    "from scipy.interpolate import PchipInterpolator as pchip\n",
    "import PCA as PCA\n",
    "#import matplotlib as mpl\n",
    "from mpl_toolkits.mplot3d import Axes3D\n",
    "import hyperalign as hyp\n",
    "\n",
    "\n",
    "def animator(data):\n",
    "    \n",
    "    def interp(z):\n",
    "        x=np.arange(0, len(z), 1)\n",
    "        xx=np.arange(0, len(z)-1, .1)\n",
    "        q=pchip(x,z)\n",
    "        return q(xx)\n",
    "\n",
    "    \n",
    "    #ADD: check to make sure all matrices in data are the same size and/or do resize\n",
    "    \n",
    "\n",
    "    #test_data=np.array([[3, 7],[1, 2],[8, 11],[5, -12],[20, 25], [-3, 30], [2,2], [17, 17]])\n",
    "    #data=sio.loadmat('../extras/example_data/weights.mat')\n",
    "    #test_data=data['weights'][0][1]\n",
    "    #test_data2=data['weights'][0][2]\n",
    "\n",
    "    array=np.zeros(data[0].shape)\n",
    "    smoothed=[array]*len(data)\n",
    "    print data.shape\n",
    "    print array.shape\n",
    "    print len(smoothed)\n",
    "    \n",
    "    for idx, x in enumerate(data):\n",
    "        rows=data[idx].shape[0]\n",
    "        \n",
    "        smoothed[idx]=np.zeros((rows*10,3))\n",
    "        \n",
    "        \n",
    "        smoothed[idx]=PCA.reduc(x, 3)\n",
    "        smoothed[idx]= interp(smoothed[idx])\n",
    "        \n",
    "        \n",
    "    print smoothed\n",
    "\n",
    "    def animate2(i):\n",
    "        ax1.clear()\n",
    "        #ax2.clear()\n",
    "\n",
    "        ax1.set_color_cycle(['red', 'green','blue','black'])\n",
    "        #ax2.set_color_cycle(['black'])\n",
    "\n",
    "        for x in smoothed:\n",
    "            ax1.plot(x[0:i, 0], x[0:i, 1], x[0:i, 2])\n",
    "            #ax1.plot(test_interp2[0:i, 0], test_interp2[0:i, 1], test_interp2[0:i, 2])\n",
    "\n",
    "    fig1 = plt.figure()\n",
    "    ax1 = fig1.add_subplot(111, projection='3d')\n",
    "\n",
    "\n",
    "    animation.FuncAnimation(fig1, animate2, interval=8, repeat=True)#frames=range(1, len(test_interp)), \n",
    "\n",
    "    plt.show()\n",
    "\n"
   ]
  },
  {
   "cell_type": "code",
   "execution_count": null,
   "metadata": {
    "collapsed": false
   },
   "outputs": [],
   "source": []
  },
  {
   "cell_type": "code",
   "execution_count": 20,
   "metadata": {
    "collapsed": true
   },
   "outputs": [],
   "source": [
    "data=sio.loadmat('../extras/example_data/weights.mat')\n",
    "test_data=data['weights'][0][1]\n",
    "test_data2=data['weights'][0][2]\n",
    "test_data3=data['weights'][0][3]\n",
    "\n",
    "sample=np.array([test_data, test_data2, test_data3])\n"
   ]
  },
  {
   "cell_type": "code",
   "execution_count": 21,
   "metadata": {
    "collapsed": false
   },
   "outputs": [
    {
     "name": "stdout",
     "output_type": "stream",
     "text": [
      "(3, 300, 100)\n",
      "(300, 100)\n",
      "3\n",
      "[array([[-0.10050128, -1.04455259, -0.85417606],\n",
      "       [-0.0313257 , -0.99388629, -0.75764993],\n",
      "       [ 0.03641036, -0.94479789, -0.6584763 ],\n",
      "       ..., \n",
      "       [-0.46481833, -1.86661333, -0.1418612 ],\n",
      "       [-0.52017295, -1.80499328, -0.23800472],\n",
      "       [-0.56840782, -1.74231591, -0.33748146]]), array([[-1.52101267,  1.16180122, -0.1475715 ],\n",
      "       [-1.5197359 ,  0.97660381, -0.08756245],\n",
      "       [-1.51598869,  0.79750629, -0.03039617],\n",
      "       ..., \n",
      "       [ 0.53832364,  2.8415595 ,  0.30889583],\n",
      "       [ 0.54267998,  2.74696358,  0.27717045],\n",
      "       [ 0.54827363,  2.64803903,  0.24147875]]), array([[-0.33853163,  1.53092013, -1.0201791 ],\n",
      "       [-0.26826474,  1.49379714, -0.84516154],\n",
      "       [-0.20543733,  1.45662243, -0.67578178],\n",
      "       ..., \n",
      "       [-0.37642029,  1.50196574, -0.5083209 ],\n",
      "       [-0.4004052 ,  1.49345617, -0.47035729],\n",
      "       [-0.42951514,  1.48725485, -0.42664992]])]\n"
     ]
    }
   ],
   "source": [
    "animator(sample)\n",
    "plt.show()"
   ]
  },
  {
   "cell_type": "code",
   "execution_count": null,
   "metadata": {
    "collapsed": false
   },
   "outputs": [],
   "source": []
  },
  {
   "cell_type": "code",
   "execution_count": null,
   "metadata": {
    "collapsed": false
   },
   "outputs": [],
   "source": []
  },
  {
   "cell_type": "code",
   "execution_count": null,
   "metadata": {
    "collapsed": true
   },
   "outputs": [],
   "source": []
  }
 ],
 "metadata": {
  "kernelspec": {
   "display_name": "Python 2",
   "language": "python",
   "name": "python2"
  },
  "language_info": {
   "codemirror_mode": {
    "name": "ipython",
    "version": 2
   },
   "file_extension": ".py",
   "mimetype": "text/x-python",
   "name": "python",
   "nbconvert_exporter": "python",
   "pygments_lexer": "ipython2",
   "version": "2.7.11"
  }
 },
 "nbformat": 4,
 "nbformat_minor": 0
}

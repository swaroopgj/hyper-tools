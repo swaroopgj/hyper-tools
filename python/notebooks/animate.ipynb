{
 "cells": [
  {
   "cell_type": "markdown",
   "metadata": {
    "collapsed": false
   },
   "source": [
    "### Dynamic 3D plotting of two subs' weight matrices"
   ]
  },
  {
   "cell_type": "code",
   "execution_count": null,
   "metadata": {
    "collapsed": true
   },
   "outputs": [],
   "source": [
    "\n"
   ]
  },
  {
   "cell_type": "code",
   "execution_count": 42,
   "metadata": {
    "collapsed": false
   },
   "outputs": [],
   "source": [
    "import sys\n",
    "sys.path.append('../')\n",
    "import scipy.io as sio\n",
    "import numpy as np\n",
    "import matplotlib.pyplot as plt \n",
    "import matplotlib.animation as animation\n",
    "import scipy\n",
    "from scipy.interpolate import PchipInterpolator as pchip\n",
    "import PCA as PCA\n",
    "#import matplotlib as mpl\n",
    "from mpl_toolkits.mplot3d import Axes3D\n",
    "import hyperalign as hyp\n",
    "\n",
    "\n",
    "def animator(data):\n",
    "    \n",
    "    def interp(z):\n",
    "        x=np.arange(0, len(z), 1)\n",
    "        xx=np.arange(0, len(z)-1, .1)\n",
    "        q=pchip(x,z)\n",
    "        return q(xx)\n",
    "\n",
    "    \n",
    "    #ADD: check to make sure all matrices in data are the same size and/or do resize\n",
    "    \n",
    "\n",
    "    #test_data=np.array([[3, 7],[1, 2],[8, 11],[5, -12],[20, 25], [-3, 30], [2,2], [17, 17]])\n",
    "    #data=sio.loadmat('../extras/example_data/weights.mat')\n",
    "    #test_data=data['weights'][0][1]\n",
    "    #test_data2=data['weights'][0][2]\n",
    "\n",
    "    array=np.zeros(data[0].shape)\n",
    "    smoothed=[array]*len(data)\n",
    "    print data.shape\n",
    "    print array.shape\n",
    "    print len(smoothed)\n",
    "    \n",
    "    for idx, x in enumerate(data):\n",
    "        rows=data[idx].shape[0]\n",
    "        \n",
    "        smoothed[idx]=np.zeros((rows*10,3))\n",
    "        smoothed[idx]=PCA.reduc(x, 3)\n",
    "        smoothed[idx]= interp(smoothed[idx])\n",
    "        \n",
    "        \n",
    "    print smoothed\n",
    "\n",
    "    def animate2(i):\n",
    "        ax1.clear()\n",
    "        #ax2.clear()\n",
    "\n",
    "        ax1.set_color_cycle(['red', 'green','blue','black'])\n",
    "        #ax2.set_color_cycle(['black'])\n",
    "\n",
    "        for x in smoothed:\n",
    "            ax1.plot(x[0:i, 0], x[0:i, 1], x[0:i, 2])\n",
    "            #ax1.plot(test_interp2[0:i, 0], test_interp2[0:i, 1], test_interp2[0:i, 2])\n",
    "\n",
    "    fig1 = plt.figure()\n",
    "    ax1 = fig1.add_subplot(111, projection='3d')\n",
    "\n",
    "\n",
    "    anim=animation.FuncAnimation(fig1, animate2, interval=8, repeat=True)#frames=range(1, len(test_interp)), \n",
    "\n",
    "\n",
    "    plt.show()\n",
    "\n"
   ]
  },
  {
   "cell_type": "code",
   "execution_count": null,
   "metadata": {
    "collapsed": false
   },
   "outputs": [],
   "source": []
  },
  {
   "cell_type": "code",
   "execution_count": 43,
   "metadata": {
    "collapsed": true
   },
   "outputs": [],
   "source": [
    "data=sio.loadmat('../extras/example_data/weights.mat')\n",
    "test_data=data['weights'][0][1]\n",
    "test_data2=data['weights'][0][2]\n",
    "test_data3=data['weights'][0][3]\n",
    "\n",
    "sample=np.array([test_data, test_data2, test_data3])\n",
    "\n"
   ]
  },
  {
   "cell_type": "code",
   "execution_count": 44,
   "metadata": {
    "collapsed": false
   },
   "outputs": [
    {
     "name": "stdout",
     "output_type": "stream",
     "text": [
      "(3, 300, 100)\n",
      "(300, 100)\n",
      "3\n",
      "[array([[ 0.10050115, -1.04455161,  0.85417628],\n",
      "       [ 0.0313256 , -0.99388536,  0.75765008],\n",
      "       [-0.03641043, -0.94479701,  0.6584764 ],\n",
      "       ..., \n",
      "       [ 0.4648183 , -1.86661315,  0.14186334],\n",
      "       [ 0.52017292, -1.80499301,  0.23800672],\n",
      "       [ 0.56840778, -1.74231555,  0.33748331]]), array([[-1.52102113,  1.16178977,  0.14757149],\n",
      "       [-1.51974422,  0.97659203,  0.08756235],\n",
      "       [-1.5159966 ,  0.79749417,  0.03039599],\n",
      "       ..., \n",
      "       [ 0.53830224,  2.8415647 , -0.30889719],\n",
      "       [ 0.54265944,  2.74696888, -0.27717175],\n",
      "       [ 0.54825418,  2.64804443, -0.24147998]]), array([[ 0.33853072,  1.53091919, -1.02017844],\n",
      "       [ 0.26826388,  1.49379616, -0.84516075],\n",
      "       [ 0.20543651,  1.45662142, -0.67578088],\n",
      "       ..., \n",
      "       [ 0.37641968,  1.50196503, -0.50832079],\n",
      "       [ 0.40040457,  1.49345544, -0.47035713],\n",
      "       [ 0.42951448,  1.48725409, -0.42664971]])]\n"
     ]
    },
    {
     "name": "stderr",
     "output_type": "stream",
     "text": [
      "/Users/contextlab/Library/Enthought/Canopy_64bit/User/lib/python2.7/site-packages/matplotlib/cbook.py:137: MatplotlibDeprecationWarning: The set_color_cycle attribute was deprecated in version 1.5. Use set_prop_cycle instead.\n",
      "  warnings.warn(message, mplDeprecation, stacklevel=1)\n"
     ]
    }
   ],
   "source": [
    "animator(sample)\n",
    "#plt.show()"
   ]
  },
  {
   "cell_type": "code",
   "execution_count": null,
   "metadata": {
    "collapsed": false
   },
   "outputs": [],
   "source": []
  },
  {
   "cell_type": "code",
   "execution_count": null,
   "metadata": {
    "collapsed": false
   },
   "outputs": [],
   "source": []
  },
  {
   "cell_type": "code",
   "execution_count": null,
   "metadata": {
    "collapsed": true
   },
   "outputs": [],
   "source": []
  }
 ],
 "metadata": {
  "kernelspec": {
   "display_name": "Python 2",
   "language": "python",
   "name": "python2"
  },
  "language_info": {
   "codemirror_mode": {
    "name": "ipython",
    "version": 2
   },
   "file_extension": ".py",
   "mimetype": "text/x-python",
   "name": "python",
   "nbconvert_exporter": "python",
   "pygments_lexer": "ipython2",
   "version": "2.7.11"
  }
 },
 "nbformat": 4,
 "nbformat_minor": 0
}

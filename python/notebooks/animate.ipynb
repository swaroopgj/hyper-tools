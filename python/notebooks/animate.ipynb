{
 "cells": [
  {
   "cell_type": "markdown",
   "metadata": {
    "collapsed": false
   },
   "source": [
    "### Dynamic 3D plotting of two subs' weight matrices"
   ]
  },
  {
   "cell_type": "code",
   "execution_count": null,
   "metadata": {
    "collapsed": true
   },
   "outputs": [],
   "source": [
    "\n"
   ]
  },
  {
   "cell_type": "code",
   "execution_count": 9,
   "metadata": {
    "collapsed": false
   },
   "outputs": [],
   "source": [
    "import sys\n",
    "sys.path.append('../')\n",
    "import scipy.io as sio\n",
    "import numpy as np\n",
    "import matplotlib.pyplot as plt \n",
    "import matplotlib.animation as animation\n",
    "import scipy\n",
    "from scipy.interpolate import PchipInterpolator as pchip\n",
    "import PCA as PCA\n",
    "#import matplotlib as mpl\n",
    "from mpl_toolkits.mplot3d import Axes3D\n",
    "import hyperalign as hyp\n",
    "\n",
    "\n",
    "def animator(data):\n",
    "    \n",
    "    def is_list(x):\n",
    "        if type(x[0][0])==np.ndarray:\n",
    "            return True\n",
    "        elif type(x[0][0])==np.int64 or type(x[0][0])==int:\n",
    "            return False\n",
    "        \n",
    "    def interp(z):\n",
    "        x=np.arange(0, len(z), 1)\n",
    "        xx=np.arange(0, len(z)-1, .1)\n",
    "        q=pchip(x,z)\n",
    "        return q(xx)\n",
    "    \n",
    "    if is_list(data):\n",
    "        array=np.zeros(data[0].shape)\n",
    "        smoothed=[array]*len(data)\n",
    "        \n",
    "        for idx, x in enumerate(data):\n",
    "            rows=data[idx].shape[0]\n",
    "\n",
    "            smoothed[idx]=np.zeros((rows*10,3))\n",
    "            smoothed[idx]=PCA.reduc(x, 3)\n",
    "            smoothed[idx]= interp(smoothed[idx])\n",
    "            \n",
    "    else:\n",
    "        array=np.zeros(data.shape)\n",
    "        rows=data.shape[0]\n",
    "        smoothed=PCA.reduc(data,3)\n",
    "        smoothed=interp(smoothed)\n",
    "\n",
    "        print smoothed\n",
    "\n",
    "      \n",
    "        \n",
    "    def animate2(i):\n",
    "        ax1.clear()\n",
    "        #ax2.clear()\n",
    "\n",
    "        #ax1.set_color_cycle(['red', 'red','grey','purple','purple','grey','orange','orange','grey'])\n",
    "        #ax2.set_color_cycle(['black'])\n",
    "\n",
    "        for x in smoothed:\n",
    "            if i<=15:  \n",
    "                ax1.set_color_cycle(['red','red','red'])\n",
    "                ax1.view_init(elev=10., azim=i)\n",
    "                ax1.plot(x[0:i, 0], x[0:i, 1], x[0:i, 2])\n",
    "            \n",
    "                ax1.grid(False)\n",
    "                ax1.set_xticklabels([])\n",
    "                ax1.set_yticklabels([])\n",
    "                ax1.set_zticklabels([])\n",
    "                \n",
    "            if i>15 and i<18:\n",
    "                ax1.set_color_cycle(['red','red','red'])\n",
    "                ax1.view_init(elev=10., azim=i)\n",
    "                ax1.plot(x[i-15:i, 0], x[i-15:i, 1], x[i-15:i, 2])\n",
    "                \n",
    "                ax1.grid(False)\n",
    "                ax1.set_xticklabels([])\n",
    "                ax1.set_yticklabels([])\n",
    "                ax1.set_zticklabels([])\n",
    "        \n",
    "            if i>=18 and i<58:\n",
    "                ax1.set_color_cycle(['red', 'red','grey','purple','purple','grey','orange','orange','grey'])\n",
    "                ax1.view_init(elev=10., azim=i)\n",
    "                ax1.plot(x[i-15:i, 0], x[i-15:i, 1], x[i-15:i, 2])\n",
    "                ax1.plot(x[i-18:i-15,0],x[i-18:i-15,1],x[i-18:i-15,2], \":\")\n",
    "                ax1.plot(x[0:i-18,0],x[0:i-18,1],x[0:i-18,2], \":\")\n",
    "                \n",
    "                ax1.grid(False)\n",
    "                ax1.set_xticklabels([])\n",
    "                ax1.set_yticklabels([])\n",
    "                ax1.set_zticklabels([])\n",
    "                \n",
    "            if i>=58:\n",
    "                if i<360:\n",
    "                    ax1.view_init(elev=10., azim=i)\n",
    "                else:\n",
    "                    Az=i-(int(i/360)*360)\n",
    "                    ax1.view_init(elev=10., azim=Az)\n",
    "                ax1.set_color_cycle(['red', 'red','grey','purple','purple','grey','orange','orange','grey'])\n",
    "                ax1.plot(x[i-15:i, 0], x[i-15:i, 1], x[i-15:i, 2])\n",
    "                ax1.plot(x[i-18:i-15,0],x[i-18:i-15,1],x[i-18:i-15,2], \":\")\n",
    "                ax1.plot(x[i-58:i-18,0],x[i-58:i-18,1],x[i-58:i-18,2], \":\")\n",
    "                \n",
    "                ax1.grid(False)\n",
    "                ax1.set_xticklabels([])\n",
    "                ax1.set_yticklabels([])\n",
    "                ax1.set_zticklabels([])\n",
    "\n",
    "     \n",
    "        average=(sum(x[i-15:i,0]/14),sum(x[i-15:i,1]/14),sum(x[i-15:i,2]/14))\n",
    "    \n",
    "    #a = np.zeros((smoothed[0].shape[1],len(smoothed)))\n",
    "    \n",
    "    #for idx,s in smoothed:\n",
    "        #for n in range(0,s.shape[1]):\n",
    "            #a[idx,0]=max(s[:,0])\n",
    "            #a[idx,1]=max(s[:,1])\n",
    "            #a[idx,2]=max(s[:,2])\n",
    "            \n",
    "            \n",
    "\n",
    "    fig1 = plt.figure()\n",
    "    ax1 = fig1.add_subplot(111, projection='3d')\n",
    "    ax1.axes.get_xaxis().set_visible(False)\n",
    "    ax1.set_xticklabels([])\n",
    "    plt.axis('off')\n",
    "    #ax1.auto_scale_xyz(100,100,100)\n",
    "\n",
    "    #for ii in xrange(0,360,1):\n",
    "        #ax.view_init(elev=10., azim=ii)\n",
    "        #savefig(\"movie%d.png\" % ii)\n",
    "    \n",
    "    anim=animation.FuncAnimation(fig1, animate2, interval=8, repeat=True)#frames=range(1, len(test_interp)), \n",
    "\n",
    "    plt.show()\n",
    "\n"
   ]
  },
  {
   "cell_type": "code",
   "execution_count": null,
   "metadata": {
    "collapsed": false
   },
   "outputs": [],
   "source": []
  },
  {
   "cell_type": "code",
   "execution_count": 10,
   "metadata": {
    "collapsed": false
   },
   "outputs": [],
   "source": [
    "data=sio.loadmat('../extras/example_data/weights.mat')\n",
    "test_data=data['weights'][0][1]\n",
    "test_data2=data['weights'][0][2]\n",
    "test_data3=data['weights'][0][3]\n",
    "\n",
    "sample=np.array([test_data, test_data2, test_data3])\n",
    "\n"
   ]
  },
  {
   "cell_type": "code",
   "execution_count": 11,
   "metadata": {
    "collapsed": false
   },
   "outputs": [
    {
     "name": "stdout",
     "output_type": "stream",
     "text": [
      "(300, 100)\n",
      "3\n"
     ]
    }
   ],
   "source": [
    "print test_data.shape\n",
    "print len(sample)\n",
    "\n",
    "\n",
    "animator(sample)\n",
    "#plt.show()\n",
    "\n"
   ]
  },
  {
   "cell_type": "code",
   "execution_count": null,
   "metadata": {
    "collapsed": false
   },
   "outputs": [],
   "source": [
    "def is_list(x):\n",
    "    if type(x[0][0])==np.ndarray:\n",
    "        return True\n",
    "    elif type(x[0][0])==np.int64 or type(x[0][0])==np.float32:\n",
    "        return False\n"
   ]
  },
  {
   "cell_type": "code",
   "execution_count": 9,
   "metadata": {
    "collapsed": false
   },
   "outputs": [
    {
     "name": "stdout",
     "output_type": "stream",
     "text": [
      "True\n"
     ]
    }
   ],
   "source": [
    "print is_list(sample)"
   ]
  },
  {
   "cell_type": "code",
   "execution_count": 10,
   "metadata": {
    "collapsed": false
   },
   "outputs": [
    {
     "name": "stdout",
     "output_type": "stream",
     "text": [
      "False\n"
     ]
    }
   ],
   "source": [
    "print is_list(test_data)"
   ]
  },
  {
   "cell_type": "code",
   "execution_count": 60,
   "metadata": {
    "collapsed": false
   },
   "outputs": [],
   "source": [
    "animator(hyp.hyperalign(sample))\n"
   ]
  },
  {
   "cell_type": "code",
   "execution_count": null,
   "metadata": {
    "collapsed": true
   },
   "outputs": [],
   "source": []
  }
 ],
 "metadata": {
  "kernelspec": {
   "display_name": "Python 2",
   "language": "python",
   "name": "python2"
  },
  "language_info": {
   "codemirror_mode": {
    "name": "ipython",
    "version": 2
   },
   "file_extension": ".py",
   "mimetype": "text/x-python",
   "name": "python",
   "nbconvert_exporter": "python",
   "pygments_lexer": "ipython2",
   "version": "2.7.11"
  }
 },
 "nbformat": 4,
 "nbformat_minor": 0
}
